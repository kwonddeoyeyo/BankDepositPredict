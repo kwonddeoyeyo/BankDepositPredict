{
 "cells": [
  {
   "cell_type": "raw",
   "metadata": {},
   "source": [
    "Term Deposit Prediction Model"
   ]
  },
  {
   "cell_type": "code",
   "execution_count": 70,
   "metadata": {},
   "outputs": [],
   "source": [
    "# Import libraries #okay? # hello\n",
    "import csv\n",
    "import pandas as pd\n",
    "import numpy as np\n",
    "from keras.models import Sequential\n",
    "from keras.layers import Dense, Dropout, Activation\n",
    "from sklearn.model_selection import train_test_split\n",
    "from keras import optimizers\n",
    "from sklearn.preprocessing import LabelEncoder\n"
   ]
  },
  {
   "cell_type": "code",
   "execution_count": 71,
   "metadata": {},
   "outputs": [],
   "source": [
    "# load data\n",
    "data = pd.read_csv(\"bank-additional.csv\", delimiter=\";\")"
   ]
  },
  {
   "cell_type": "code",
   "execution_count": 72,
   "metadata": {},
   "outputs": [],
   "source": [
    "# Select attributes\n",
    "# X from column 0 to 10\n",
    "# Y for column 21\n",
    "x = data.iloc[:, 0:10].values\n",
    "y = data.iloc[:, -1].values\n"
   ]
  },
  {
   "cell_type": "code",
   "execution_count": 73,
   "metadata": {},
   "outputs": [],
   "source": [
    "# Encode the classes\n",
    "le = LabelEncoder()\n",
    "x[:, 1] = le.fit_transform(x[:, 1])\n",
    "x[:, 2] = le.fit_transform(x[:, 2])\n",
    "x[:, 3] = le.fit_transform(x[:, 3])\n",
    "x[:, 4] = le.fit_transform(x[:, 4])\n",
    "x[:, 5] = le.fit_transform(x[:, 5])\n",
    "x[:, 6] = le.fit_transform(x[:, 6])\n",
    "x[:, 7] = le.fit_transform(x[:, 7])\n",
    "x[:, 8] = le.fit_transform(x[:, 8])\n",
    "x[:, 9] = le.fit_transform(x[:, 9])\n",
    "y[:] = le.fit_transform(y[:])\n"
   ]
  },
  {
   "cell_type": "code",
   "execution_count": 74,
   "metadata": {},
   "outputs": [],
   "source": [
    "# Make into array\n",
    "x = np.array(x)\n",
    "y = np.array(y)"
   ]
  },
  {
   "cell_type": "code",
   "execution_count": 75,
   "metadata": {},
   "outputs": [],
   "source": [
    "# Split train and test\n",
    "X_train, X_test, Y_train, Y_test = train_test_split(x, y, test_size=0.3)\n",
    "X_train = np.array(X_train, np.float32)\n",
    "X_test = np.array(X_test, np.float32)\n",
    "Y_train = np.array(Y_train, np.float32)\n",
    "Y_test = np.array(Y_test, np.float32)"
   ]
  },
  {
   "cell_type": "code",
   "execution_count": 76,
   "metadata": {},
   "outputs": [],
   "source": [
    "# Setting Model\n",
    "model = Sequential()\n",
    "model.add(Dense(10, input_shape = (10,), activation = 'sigmoid'))\n",
    "model.add(Dense(10, activation = 'sigmoid'))\n",
    "model.add(Dense(10, activation = 'sigmoid'))\n",
    "model.add(Dense(1, activation = 'sigmoid'))"
   ]
  },
  {
   "cell_type": "code",
   "execution_count": 77,
   "metadata": {},
   "outputs": [],
   "source": [
    "# Optimizer\n",
    "sgd = optimizers.SGD(lr = 0.001)    # stochastic gradient descent optimizer\n",
    "model.compile(optimizer = sgd, loss = 'binary_crossentropy', metrics = ['acc'])"
   ]
  },
  {
   "cell_type": "code",
   "execution_count": 78,
   "metadata": {},
   "outputs": [
    {
     "name": "stdout",
     "output_type": "stream",
     "text": [
      "Model: \"sequential_6\"\n",
      "_________________________________________________________________\n",
      "Layer (type)                 Output Shape              Param #   \n",
      "=================================================================\n",
      "dense_21 (Dense)             (None, 10)                110       \n",
      "_________________________________________________________________\n",
      "dense_22 (Dense)             (None, 10)                110       \n",
      "_________________________________________________________________\n",
      "dense_23 (Dense)             (None, 10)                110       \n",
      "_________________________________________________________________\n",
      "dense_24 (Dense)             (None, 1)                 11        \n",
      "=================================================================\n",
      "Total params: 341\n",
      "Trainable params: 341\n",
      "Non-trainable params: 0\n",
      "_________________________________________________________________\n"
     ]
    }
   ],
   "source": [
    "# Check model parameters\n",
    "model.summary()"
   ]
  },
  {
   "cell_type": "code",
   "execution_count": 79,
   "metadata": {},
   "outputs": [
    {
     "name": "stdout",
     "output_type": "stream",
     "text": [
      "Epoch 1/100\n",
      "58/58 [==============================] - 0s 447us/step - loss: 0.7430 - acc: 0.1131\n",
      "Epoch 2/100\n",
      "58/58 [==============================] - 0s 447us/step - loss: 0.7003 - acc: 0.3618\n",
      "Epoch 3/100\n",
      "58/58 [==============================] - 0s 464us/step - loss: 0.6628 - acc: 0.8869\n",
      "Epoch 4/100\n",
      "58/58 [==============================] - 0s 430us/step - loss: 0.6299 - acc: 0.8869\n",
      "Epoch 5/100\n",
      "58/58 [==============================] - 0s 430us/step - loss: 0.6010 - acc: 0.8869\n",
      "Epoch 6/100\n",
      "58/58 [==============================] - 0s 413us/step - loss: 0.5756 - acc: 0.8869\n",
      "Epoch 7/100\n",
      "58/58 [==============================] - 0s 447us/step - loss: 0.5531 - acc: 0.8869\n",
      "Epoch 8/100\n",
      "58/58 [==============================] - 0s 447us/step - loss: 0.5333 - acc: 0.8869\n",
      "Epoch 9/100\n",
      "58/58 [==============================] - 0s 445us/step - loss: 0.5158 - acc: 0.8869\n",
      "Epoch 10/100\n",
      "58/58 [==============================] - 0s 430us/step - loss: 0.5002 - acc: 0.8869\n",
      "Epoch 11/100\n",
      "58/58 [==============================] - 0s 430us/step - loss: 0.4864 - acc: 0.8869\n",
      "Epoch 12/100\n",
      "58/58 [==============================] - 0s 447us/step - loss: 0.4741 - acc: 0.8869\n",
      "Epoch 13/100\n",
      "58/58 [==============================] - 0s 430us/step - loss: 0.4631 - acc: 0.8869\n",
      "Epoch 14/100\n",
      "58/58 [==============================] - 0s 430us/step - loss: 0.4532 - acc: 0.8869\n",
      "Epoch 15/100\n",
      "58/58 [==============================] - 0s 430us/step - loss: 0.4445 - acc: 0.8869\n",
      "Epoch 16/100\n",
      "58/58 [==============================] - 0s 430us/step - loss: 0.4366 - acc: 0.8869\n",
      "Epoch 17/100\n",
      "58/58 [==============================] - 0s 430us/step - loss: 0.4295 - acc: 0.8869\n",
      "Epoch 18/100\n",
      "58/58 [==============================] - 0s 447us/step - loss: 0.4231 - acc: 0.8869\n",
      "Epoch 19/100\n",
      "58/58 [==============================] - 0s 439us/step - loss: 0.4173 - acc: 0.8869\n",
      "Epoch 20/100\n",
      "58/58 [==============================] - 0s 430us/step - loss: 0.4120 - acc: 0.8869\n",
      "Epoch 21/100\n",
      "58/58 [==============================] - 0s 447us/step - loss: 0.4073 - acc: 0.8869\n",
      "Epoch 22/100\n",
      "58/58 [==============================] - 0s 447us/step - loss: 0.4030 - acc: 0.8869\n",
      "Epoch 23/100\n",
      "58/58 [==============================] - 0s 437us/step - loss: 0.3991 - acc: 0.8869\n",
      "Epoch 24/100\n",
      "58/58 [==============================] - 0s 464us/step - loss: 0.3955 - acc: 0.8869\n",
      "Epoch 25/100\n",
      "58/58 [==============================] - 0s 542us/step - loss: 0.3922 - acc: 0.8869\n",
      "Epoch 26/100\n",
      "58/58 [==============================] - 0s 481us/step - loss: 0.3892 - acc: 0.8869\n",
      "Epoch 27/100\n",
      "58/58 [==============================] - 0s 464us/step - loss: 0.3865 - acc: 0.8869\n",
      "Epoch 28/100\n",
      "58/58 [==============================] - 0s 430us/step - loss: 0.3840 - acc: 0.8869\n",
      "Epoch 29/100\n",
      "58/58 [==============================] - 0s 464us/step - loss: 0.3818 - acc: 0.8869\n",
      "Epoch 30/100\n",
      "58/58 [==============================] - 0s 447us/step - loss: 0.3797 - acc: 0.8869\n",
      "Epoch 31/100\n",
      "58/58 [==============================] - 0s 430us/step - loss: 0.3777 - acc: 0.8869\n",
      "Epoch 32/100\n",
      "58/58 [==============================] - 0s 464us/step - loss: 0.3760 - acc: 0.8869\n",
      "Epoch 33/100\n",
      "58/58 [==============================] - 0s 443us/step - loss: 0.3743 - acc: 0.8869\n",
      "Epoch 34/100\n",
      "58/58 [==============================] - 0s 430us/step - loss: 0.3728 - acc: 0.8869\n",
      "Epoch 35/100\n",
      "58/58 [==============================] - 0s 447us/step - loss: 0.3715 - acc: 0.8869\n",
      "Epoch 36/100\n",
      "58/58 [==============================] - 0s 430us/step - loss: 0.3702 - acc: 0.8869\n",
      "Epoch 37/100\n",
      "58/58 [==============================] - 0s 430us/step - loss: 0.3690 - acc: 0.8869\n",
      "Epoch 38/100\n",
      "58/58 [==============================] - 0s 447us/step - loss: 0.3679 - acc: 0.8869\n",
      "Epoch 39/100\n",
      "58/58 [==============================] - 0s 430us/step - loss: 0.3669 - acc: 0.8869\n",
      "Epoch 40/100\n",
      "58/58 [==============================] - 0s 447us/step - loss: 0.3660 - acc: 0.8869\n",
      "Epoch 41/100\n",
      "58/58 [==============================] - 0s 430us/step - loss: 0.3651 - acc: 0.8869\n",
      "Epoch 42/100\n",
      "58/58 [==============================] - 0s 430us/step - loss: 0.3643 - acc: 0.8869\n",
      "Epoch 43/100\n",
      "58/58 [==============================] - 0s 447us/step - loss: 0.3636 - acc: 0.8869\n",
      "Epoch 44/100\n",
      "58/58 [==============================] - 0s 430us/step - loss: 0.3629 - acc: 0.8869\n",
      "Epoch 45/100\n",
      "58/58 [==============================] - 0s 430us/step - loss: 0.3622 - acc: 0.8869\n",
      "Epoch 46/100\n",
      "58/58 [==============================] - 0s 447us/step - loss: 0.3616 - acc: 0.8869\n",
      "Epoch 47/100\n",
      "58/58 [==============================] - 0s 430us/step - loss: 0.3611 - acc: 0.8869\n",
      "Epoch 48/100\n",
      "58/58 [==============================] - 0s 447us/step - loss: 0.3606 - acc: 0.8869\n",
      "Epoch 49/100\n",
      "58/58 [==============================] - 0s 430us/step - loss: 0.3601 - acc: 0.8869\n",
      "Epoch 50/100\n",
      "58/58 [==============================] - 0s 430us/step - loss: 0.3596 - acc: 0.8869\n",
      "Epoch 51/100\n",
      "58/58 [==============================] - 0s 430us/step - loss: 0.3592 - acc: 0.8869\n",
      "Epoch 52/100\n",
      "58/58 [==============================] - 0s 430us/step - loss: 0.3588 - acc: 0.8869\n",
      "Epoch 53/100\n",
      "58/58 [==============================] - 0s 447us/step - loss: 0.3584 - acc: 0.8869\n",
      "Epoch 54/100\n",
      "58/58 [==============================] - 0s 430us/step - loss: 0.3581 - acc: 0.8869\n",
      "Epoch 55/100\n",
      "58/58 [==============================] - 0s 447us/step - loss: 0.3578 - acc: 0.8869\n",
      "Epoch 56/100\n",
      "58/58 [==============================] - 0s 464us/step - loss: 0.3575 - acc: 0.8869\n",
      "Epoch 57/100\n",
      "58/58 [==============================] - 0s 430us/step - loss: 0.3572 - acc: 0.8869\n",
      "Epoch 58/100\n",
      "58/58 [==============================] - 0s 430us/step - loss: 0.3569 - acc: 0.8869\n",
      "Epoch 59/100\n",
      "58/58 [==============================] - 0s 430us/step - loss: 0.3567 - acc: 0.8869\n",
      "Epoch 60/100\n",
      "58/58 [==============================] - 0s 430us/step - loss: 0.3565 - acc: 0.8869\n",
      "Epoch 61/100\n",
      "58/58 [==============================] - 0s 464us/step - loss: 0.3563 - acc: 0.8869\n",
      "Epoch 62/100\n",
      "58/58 [==============================] - 0s 464us/step - loss: 0.3561 - acc: 0.8869\n",
      "Epoch 63/100\n",
      "58/58 [==============================] - 0s 439us/step - loss: 0.3559 - acc: 0.8869\n",
      "Epoch 64/100\n",
      "58/58 [==============================] - 0s 456us/step - loss: 0.3557 - acc: 0.8869\n",
      "Epoch 65/100\n",
      "58/58 [==============================] - 0s 430us/step - loss: 0.3555 - acc: 0.8869\n",
      "Epoch 66/100\n",
      "58/58 [==============================] - 0s 464us/step - loss: 0.3554 - acc: 0.8869\n",
      "Epoch 67/100\n",
      "58/58 [==============================] - 0s 447us/step - loss: 0.3552 - acc: 0.8869\n",
      "Epoch 68/100\n",
      "58/58 [==============================] - 0s 447us/step - loss: 0.3551 - acc: 0.8869\n",
      "Epoch 69/100\n",
      "58/58 [==============================] - 0s 430us/step - loss: 0.3550 - acc: 0.8869\n",
      "Epoch 70/100\n",
      "58/58 [==============================] - 0s 430us/step - loss: 0.3549 - acc: 0.8869\n",
      "Epoch 71/100\n",
      "58/58 [==============================] - 0s 474us/step - loss: 0.3547 - acc: 0.8869\n",
      "Epoch 72/100\n",
      "58/58 [==============================] - 0s 447us/step - loss: 0.3546 - acc: 0.8869\n",
      "Epoch 73/100\n",
      "58/58 [==============================] - 0s 447us/step - loss: 0.3545 - acc: 0.8869\n",
      "Epoch 74/100\n",
      "58/58 [==============================] - 0s 454us/step - loss: 0.3544 - acc: 0.8869\n",
      "Epoch 75/100\n",
      "58/58 [==============================] - 0s 447us/step - loss: 0.3544 - acc: 0.8869\n",
      "Epoch 76/100\n",
      "58/58 [==============================] - 0s 430us/step - loss: 0.3543 - acc: 0.8869\n",
      "Epoch 77/100\n",
      "58/58 [==============================] - 0s 447us/step - loss: 0.3542 - acc: 0.8869\n",
      "Epoch 78/100\n",
      "58/58 [==============================] - 0s 447us/step - loss: 0.3541 - acc: 0.8869\n",
      "Epoch 79/100\n",
      "58/58 [==============================] - 0s 430us/step - loss: 0.3541 - acc: 0.8869\n",
      "Epoch 80/100\n",
      "58/58 [==============================] - 0s 430us/step - loss: 0.3540 - acc: 0.8869\n",
      "Epoch 81/100\n",
      "58/58 [==============================] - 0s 440us/step - loss: 0.3539 - acc: 0.8869\n",
      "Epoch 82/100\n",
      "58/58 [==============================] - 0s 447us/step - loss: 0.3539 - acc: 0.8869\n",
      "Epoch 83/100\n",
      "58/58 [==============================] - 0s 481us/step - loss: 0.3538 - acc: 0.8869\n",
      "Epoch 84/100\n",
      "58/58 [==============================] - 0s 447us/step - loss: 0.3538 - acc: 0.8869\n",
      "Epoch 85/100\n"
     ]
    },
    {
     "name": "stdout",
     "output_type": "stream",
     "text": [
      "58/58 [==============================] - 0s 447us/step - loss: 0.3537 - acc: 0.8869\n",
      "Epoch 86/100\n",
      "58/58 [==============================] - 0s 430us/step - loss: 0.3537 - acc: 0.8869\n",
      "Epoch 87/100\n",
      "58/58 [==============================] - 0s 430us/step - loss: 0.3536 - acc: 0.8869\n",
      "Epoch 88/100\n",
      "58/58 [==============================] - 0s 430us/step - loss: 0.3536 - acc: 0.8869\n",
      "Epoch 89/100\n",
      "58/58 [==============================] - 0s 430us/step - loss: 0.3536 - acc: 0.8869\n",
      "Epoch 90/100\n",
      "58/58 [==============================] - 0s 430us/step - loss: 0.3535 - acc: 0.8869\n",
      "Epoch 91/100\n",
      "58/58 [==============================] - 0s 430us/step - loss: 0.3535 - acc: 0.8869\n",
      "Epoch 92/100\n",
      "58/58 [==============================] - 0s 456us/step - loss: 0.3535 - acc: 0.8869\n",
      "Epoch 93/100\n",
      "58/58 [==============================] - 0s 430us/step - loss: 0.3534 - acc: 0.8869\n",
      "Epoch 94/100\n",
      "58/58 [==============================] - 0s 464us/step - loss: 0.3534 - acc: 0.8869\n",
      "Epoch 95/100\n",
      "58/58 [==============================] - 0s 460us/step - loss: 0.3534 - acc: 0.8869\n",
      "Epoch 96/100\n",
      "58/58 [==============================] - 0s 447us/step - loss: 0.3534 - acc: 0.8869\n",
      "Epoch 97/100\n",
      "58/58 [==============================] - 0s 430us/step - loss: 0.3533 - acc: 0.8869\n",
      "Epoch 98/100\n",
      "58/58 [==============================] - 0s 447us/step - loss: 0.3533 - acc: 0.8869\n",
      "Epoch 99/100\n",
      "58/58 [==============================] - 0s 464us/step - loss: 0.3533 - acc: 0.8869\n",
      "Epoch 100/100\n",
      "58/58 [==============================] - 0s 430us/step - loss: 0.3533 - acc: 0.8869\n"
     ]
    },
    {
     "data": {
      "text/plain": [
       "<tensorflow.python.keras.callbacks.History at 0x26d267d8fd0>"
      ]
     },
     "execution_count": 79,
     "metadata": {},
     "output_type": "execute_result"
    }
   ],
   "source": [
    "# Fit into model\n",
    "model.fit(X_train, Y_train, batch_size=50, epochs=100, verbose=1)"
   ]
  },
  {
   "cell_type": "code",
   "execution_count": 80,
   "metadata": {},
   "outputs": [
    {
     "name": "stdout",
     "output_type": "stream",
     "text": [
      "39/39 [==============================] - 0s 409us/step - loss: 0.3296 - acc: 0.8989\n",
      "[0.3295649290084839, 0.8988673090934753]\n"
     ]
    }
   ],
   "source": [
    "# Print the results\n",
    "results = model.evaluate(X_test, Y_test)\n",
    "print(results)"
   ]
  },
  {
   "cell_type": "code",
   "execution_count": null,
   "metadata": {},
   "outputs": [],
   "source": []
  },
  {
   "cell_type": "code",
   "execution_count": null,
   "metadata": {},
   "outputs": [],
   "source": []
  },
  {
   "cell_type": "code",
   "execution_count": null,
   "metadata": {},
   "outputs": [],
   "source": []
  }
 ],
 "metadata": {
  "kernelspec": {
   "display_name": "Python 3",
   "language": "python",
   "name": "python3"
  },
  "language_info": {
   "codemirror_mode": {
    "name": "ipython",
    "version": 3
   },
   "file_extension": ".py",
   "mimetype": "text/x-python",
   "name": "python",
   "nbconvert_exporter": "python",
   "pygments_lexer": "ipython3",
   "version": "3.8.2"
  }
 },
 "nbformat": 4,
 "nbformat_minor": 4
}
